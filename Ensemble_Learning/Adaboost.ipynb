{
 "cells": [
  {
   "cell_type": "code",
   "execution_count": 1,
   "metadata": {},
   "outputs": [],
   "source": [
    "import numpy as np\n",
    "import pandas as pd\n",
    "from sklearn import metrics\n",
    "import matplotlib.pyplot as plt\n",
    "from sklearn.datasets import load_boston\n",
    "from sklearn.tree import DecisionTreeRegressor\n",
    "from sklearn.ensemble import AdaBoostRegressor\n",
    "from sklearn.linear_model import LinearRegression\n",
    "from sklearn.model_selection import train_test_split"
   ]
  },
  {
   "cell_type": "code",
   "execution_count": 2,
   "metadata": {},
   "outputs": [],
   "source": [
    "boston = load_boston()\n",
    "data = boston.data\n",
    "target = boston.target\n",
    "x_train,x_test,y_train,y_test = train_test_split(data, target)"
   ]
  },
  {
   "cell_type": "markdown",
   "metadata": {},
   "source": [
    "### 使用线性回归模型\n",
    "对线性回归boost并没有意义，因为叠加多个线性回归最后还是线性回归\n",
    "\n",
    "线性回归是有解析解的，一旦求出一个线性回归，那一定是最优的，叠加也没有意义\n",
    "\n",
    "所以一般不对线性回归使用boosting"
   ]
  },
  {
   "cell_type": "code",
   "execution_count": 8,
   "metadata": {},
   "outputs": [
    {
     "name": "stdout",
     "output_type": "stream",
     "text": [
      "训练集得分： 0.7298891932200392\n",
      "测试集得分： 0.7351806924160531\n",
      "均方误差： 30.92014965838349\n"
     ]
    }
   ],
   "source": [
    "reg_ = LinearRegression()\n",
    "reg_.fit(x_train, y_train)\n",
    "pred_ = reg_.predict(x_test)\n",
    "print('训练集得分：', reg_.score(x_train, y_train))\n",
    "print('测试集得分：', reg_.score(x_test, y_test))\n",
    "print('均方误差：', metrics.mean_squared_error(y_test, pred_))"
   ]
  },
  {
   "cell_type": "code",
   "execution_count": 9,
   "metadata": {},
   "outputs": [
    {
     "name": "stdout",
     "output_type": "stream",
     "text": [
      "训练集得分： 0.7063041789981057\n",
      "测试集得分： 0.6902012369993812\n",
      "均方误差： 36.17192493762824\n"
     ]
    }
   ],
   "source": [
    "reg = AdaBoostRegressor(LinearRegression(), n_estimators=1000)\n",
    "reg.fit(x_train, y_train)\n",
    "pred = reg.predict(x_test)\n",
    "print('训练集得分：', reg.score(x_train, y_train))\n",
    "print('测试集得分：', reg.score(x_test, y_test))\n",
    "print('均方误差：', metrics.mean_squared_error(y_test, pred))"
   ]
  },
  {
   "cell_type": "markdown",
   "metadata": {},
   "source": [
    "### 使用回归树"
   ]
  },
  {
   "cell_type": "code",
   "execution_count": 5,
   "metadata": {},
   "outputs": [
    {
     "name": "stdout",
     "output_type": "stream",
     "text": [
      "训练集得分： 0.9167912729309377\n",
      "测试集得分： 0.8159937909932669\n",
      "均方误差： 21.484458865433847\n"
     ]
    }
   ],
   "source": [
    "clf = DecisionTreeRegressor(max_depth=5)\n",
    "clf.fit(x_train, y_train)\n",
    "y_pred = clf.predict(x_test)\n",
    "print('训练集得分：', clf.score(x_train, y_train))\n",
    "print('测试集得分：', clf.score(x_test, y_test))\n",
    "print('均方误差：', metrics.mean_squared_error(y_test, y_pred))"
   ]
  },
  {
   "cell_type": "code",
   "execution_count": 10,
   "metadata": {},
   "outputs": [
    {
     "name": "stdout",
     "output_type": "stream",
     "text": [
      "训练集得分： 0.9659405172797815\n",
      "测试集得分： 0.8469645674421272\n",
      "均方误差： 17.868328865050326\n"
     ]
    }
   ],
   "source": [
    "clf_ = AdaBoostRegressor(DecisionTreeRegressor(max_depth=5), n_estimators=1000)\n",
    "clf_.fit(x_train, y_train)\n",
    "y_pred_ = clf_.predict(x_test)\n",
    "print('训练集得分：', clf_.score(x_train, y_train))\n",
    "print('测试集得分：', clf_.score(x_test, y_test))\n",
    "print('均方误差：', metrics.mean_squared_error(y_test, y_pred_))"
   ]
  },
  {
   "cell_type": "markdown",
   "metadata": {},
   "source": [
    "### 尝试分类问题\n",
    "### 使用决策树进行分类"
   ]
  },
  {
   "cell_type": "code",
   "execution_count": 40,
   "metadata": {},
   "outputs": [],
   "source": [
    "from sklearn.datasets import load_iris\n",
    "from sklearn.tree import DecisionTreeClassifier\n",
    "from sklearn.metrics import confusion_matrix\n",
    "import matplotlib.pyplot as plt\n",
    "from sklearn.ensemble import AdaBoostClassifier\n",
    "\n",
    "iris = load_iris()\n",
    "iris_data = iris.data\n",
    "iris_target = iris.target\n",
    "x_train, x_test, y_train ,y_test = train_test_split(iris_data, iris_target)"
   ]
  },
  {
   "cell_type": "code",
   "execution_count": 32,
   "metadata": {},
   "outputs": [
    {
     "name": "stdout",
     "output_type": "stream",
     "text": [
      "训练集分数： 1.0\n",
      "验证集分数： 0.9473684210526315\n",
      "[[10  0  0]\n",
      " [ 0 13  1]\n",
      " [ 0  1 13]]\n"
     ]
    }
   ],
   "source": [
    "clf = DecisionTreeClassifier(max_depth=5)\n",
    "clf.fit(x_train, y_train.astype('int'))\n",
    "pred = clf.predict(x_test)\n",
    "confusion_matrix = confusion_matrix(pred, y_test)\n",
    "print(\"训练集分数：\",clf.score(x_train,y_train))\n",
    "print(\"验证集分数：\",clf.score(x_test,y_test))\n",
    "print(confusion_matrix)"
   ]
  },
  {
   "cell_type": "code",
   "execution_count": 39,
   "metadata": {},
   "outputs": [
    {
     "data": {
      "image/png": "[encoded data removed]",
      "text/plain": [
       "<Figure size 432x288 with 2 Axes>"
      ]
     },
     "metadata": {
      "needs_background": "light"
     },
     "output_type": "display_data"
    }
   ],
   "source": [
    "classes = list(set(pred))\n",
    "plt.imshow(confusion_matrix, cmap=plt.cm.Blues)\n",
    "indices = range(len(confusion_matrix))\n",
    "plt.xticks(indices, classes)\n",
    "plt.yticks(indices, classes)\n",
    "plt.colorbar()\n",
    "plt.xlabel('guess')\n",
    "plt.ylabel('fact')\n",
    "for first_index in range(len(confusion_matrix)):\n",
    "    for second_index in range(len(confusion_matrix[first_index])):\n",
    "        plt.text(first_index, second_index, confusion_matrix[first_index][second_index])\n",
    "plt.show()"
   ]
  },
  {
   "cell_type": "code",
   "execution_count": 41,
   "metadata": {},
   "outputs": [
    {
     "name": "stdout",
     "output_type": "stream",
     "text": [
      "训练集分数： 1.0\n",
      "验证集分数： 1.0\n",
      "[[11  0  0]\n",
      " [ 0 10  0]\n",
      " [ 0  0 17]]\n"
     ]
    }
   ],
   "source": [
    "clf = AdaBoostClassifier(DecisionTreeClassifier(max_depth=5), n_estimators=100)\n",
    "clf.fit(x_train, y_train.astype('int'))\n",
    "pred = clf.predict(x_test)\n",
    "confusion_matrix = confusion_matrix(pred, y_test)\n",
    "print(\"训练集分数：\",clf.score(x_train,y_train))\n",
    "print(\"验证集分数：\",clf.score(x_test,y_test))\n",
    "print(confusion_matrix)"
   ]
  },
  {
   "cell_type": "code",
   "execution_count": 50,
   "metadata": {},
   "outputs": [
    {
     "data": {
      "image/png": "[encoded data removed]",
      "text/plain": [
       "<Figure size 432x288 with 2 Axes>"
      ]
     },
     "metadata": {
      "needs_background": "light"
     },
     "output_type": "display_data"
    }
   ],
   "source": [
    "classes = list(set(pred))\n",
    "plt.imshow(confusion_matrix, cmap=plt.cm.Reds)\n",
    "indices = range(len(confusion_matrix))\n",
    "plt.xticks(indices, classes)\n",
    "plt.yticks(indices, classes)\n",
    "plt.colorbar()\n",
    "plt.xlabel('guess')\n",
    "plt.ylabel('fact')\n",
    "for first_index in range(len(confusion_matrix)):\n",
    "    for second_index in range(len(confusion_matrix[first_index])):\n",
    "        plt.text(first_index, second_index, confusion_matrix[first_index][second_index])\n",
    "plt.show()"
   ]
  },
  {
   "cell_type": "code",
   "execution_count": null,
   "metadata": {},
   "outputs": [],
   "source": []
  }
 ],
 "metadata": {
  "kernelspec": {
   "display_name": "Python 3",
   "language": "python",
   "name": "python3"
  },
  "language_info": {
   "codemirror_mode": {
    "name": "ipython",
    "version": 3
   },
   "file_extension": ".py",
   "mimetype": "text/x-python",
   "name": "python",
   "nbconvert_exporter": "python",
   "pygments_lexer": "ipython3",
   "version": "3.8.5"
  }
 },
 "nbformat": 4,
 "nbformat_minor": 4
}
