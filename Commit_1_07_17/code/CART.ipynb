{
 "cells": [
  {
   "cell_type": "code",
   "execution_count": 1,
   "metadata": {},
   "outputs": [],
   "source": [
    "import numpy as np\n",
    "import pandas as pd"
   ]
  },
  {
   "cell_type": "code",
   "execution_count": 2,
   "metadata": {},
   "outputs": [],
   "source": [
    "lenses = pd.read_table(\"./lenses.txt\", sep=\"\\s+\")\n",
    "lenses = lenses.drop('id', axis = 1)\n",
    "dataset = lenses.values.tolist()"
   ]
  },
  {
   "cell_type": "markdown",
   "metadata": {},
   "source": [
    "# CART(分类树）"
   ]
  },
  {
   "cell_type": "code",
   "execution_count": 3,
   "metadata": {},
   "outputs": [],
   "source": [
    "#dataset:原始数据集\n",
    "#axis:第几个特征（就是数据集中的第几列）\n",
    "#value:特征的值，例如特征age,age=1,1就是特征的值\n",
    "def split_dataset(dataset, axis, value):\n",
    "    new_dataset = []\n",
    "    for data in dataset:\n",
    "        if data[axis] == value:\n",
    "            t = data[:axis]\n",
    "            t.extend(data[axis+1:])\n",
    "            new_dataset.append(t)\n",
    "            #相当于删除第axis列，得到一个新的数据集\n",
    "    return new_dataset"
   ]
  },
  {
   "cell_type": "code",
   "execution_count": 4,
   "metadata": {},
   "outputs": [],
   "source": [
    "#选出出现得最多得特征\n",
    "#labels_list:分类结果，即数据集最后一列\n",
    "def voting(labels_list):\n",
    "    features = {}\n",
    "    #计算每种分类结果出现的次数\n",
    "    for label in labels_list:\n",
    "        if label not in features.keys():\n",
    "            features[label] = 0\n",
    "        features[label] = features[label] + 1\n",
    "    #选出分类结果出现得最多的次数\n",
    "    type_name = sorted(features.items(), reverse = True)\n",
    "    #返回出现最多的分类结果\n",
    "    return type_name[0][0]"
   ]
  },
  {
   "cell_type": "code",
   "execution_count": 5,
   "metadata": {},
   "outputs": [],
   "source": [
    "def CART_chooseBestFeatureToSplit(dataset):\n",
    "    #特征个数\n",
    "    feat_len = len(dataset[0]) - 1\n",
    "    #设置个很大的基尼系数\n",
    "    bestGini = 999999.0\n",
    "    #初始化最优特征\n",
    "    bestFeature = -1\n",
    "    #遍历特征得到各个特征的特征值\n",
    "    for i in range(feat_len):\n",
    "        featList = [example[i] for example in dataset]\n",
    "        uniqueVals = set(featList)\n",
    "        gini = 0.0\n",
    "        #遍历特征值\n",
    "        for value in uniqueVals:\n",
    "            sub_dataset = split_dataset(dataset, i, value)\n",
    "            prob = len(sub_dataset) / float(len(dataset))\n",
    "            subp = len(split_dataset(sub_dataset, -1, value)) / float(len(sub_dataset))\n",
    "        #加权求和\n",
    "        gini += prob * (1.0 - pow(subp, 2) - pow(1 - subp, 2))\n",
    "        if (gini < bestGini):\n",
    "            bestGini = gini\n",
    "            bestFeature = i\n",
    "    return bestFeature"
   ]
  },
  {
   "cell_type": "code",
   "execution_count": 6,
   "metadata": {},
   "outputs": [],
   "source": [
    "#labels:特征('age', 'prescription', 'astigmtic', 'rate')\n",
    "def creat_tree(dataset, labels):\n",
    "    labels_list = []\n",
    "    #将分类结果(数据集最后一列）放置列表中\n",
    "    for data in dataset:\n",
    "        labels_list.append(data[-1])\n",
    "    #如果只有一种分类结果\n",
    "    if labels_list.count((labels_list[0])) == len(labels_list):\n",
    "        return labels_list[0]\n",
    "    #如果只剩下一列（即剩下数据集最后一列）,选出出现最多次的分类结果\n",
    "    if len(dataset[0]) == 1:\n",
    "        return voting(labels_list)\n",
    "    #获得最优特征的位置\n",
    "    best_feat = CART_chooseBestFeatureToSplit(dataset)\n",
    "    #获得最优特征\n",
    "    best_feat_label = labels[best_feat]\n",
    "    tree = {best_feat_label:{}}\n",
    "    #把最优特征从分类结果中删除\n",
    "    del(labels[best_feat])\n",
    "    #获取最优特征值\n",
    "    #feat_values = []\n",
    "    for data in dataset:\n",
    "#         if data[best_feat] not in feat_values:\n",
    "#             feat_values.append(data[best_feat])\n",
    "        feat_values = [example[best_feat] for example in dataset]\n",
    "        unique_vals = set(feat_values)\n",
    "    #遍历最优特征值\n",
    "    for feat in feat_values:\n",
    "        #用来存放除去最优特征后的特征\n",
    "        sub_labels = labels[:]\n",
    "        #递归求解\n",
    "        tree[best_feat_label][feat] = creat_tree(split_dataset(dataset, best_feat, feat), sub_labels)\n",
    "    return tree"
   ]
  },
  {
   "cell_type": "code",
   "execution_count": 7,
   "metadata": {},
   "outputs": [],
   "source": [
    "def classify_tree(input_tree, feat_labels, test_vec):\n",
    "    first_str = list(input_tree.keys())[0]\n",
    "    second_dict = input_tree[first_str]\n",
    "    # 将标签字符串转换为索引\n",
    "    feat_index = feat_labels.index(first_str)\n",
    "    class_label = {}\n",
    "    # 递归遍历整棵树\n",
    "    for key in second_dict.keys():\n",
    "        if test_vec[feat_index] == key:\n",
    "            if type(second_dict[key]).__name__ == 'dict':\n",
    "                class_label = classify_tree(second_dict[key], feat_labels, test_vec)\n",
    "            else:\n",
    "                class_label = second_dict[key]\n",
    "    return class_label"
   ]
  },
  {
   "cell_type": "markdown",
   "metadata": {},
   "source": [
    "# 调试"
   ]
  },
  {
   "cell_type": "code",
   "execution_count": 8,
   "metadata": {},
   "outputs": [],
   "source": [
    "labels = [ 'age', 'prescription', 'astigmtic', 'rate']\n",
    "tree = creat_tree(dataset, labels)"
   ]
  },
  {
   "cell_type": "code",
   "execution_count": 9,
   "metadata": {},
   "outputs": [],
   "source": [
    "labels = [ 'age', 'prescription', 'astigmtic', 'rate']\n",
    "test = lenses.drop('type', axis = 1).values.tolist()\n",
    "results = []\n",
    "for i in range(len(test)):\n",
    "    results.append(classify_tree(tree, labels, test[i]))"
   ]
  },
  {
   "cell_type": "code",
   "execution_count": 10,
   "metadata": {},
   "outputs": [
    {
     "data": {
      "text/plain": [
       "[3, 2, 3, 1, 3, 2, 3, 1, 3, 2, 3, 1, 3, 2, 3, 3, 3, 3, 3, 1, 3, 2, 3, 3]"
      ]
     },
     "execution_count": 10,
     "metadata": {},
     "output_type": "execute_result"
    }
   ],
   "source": [
    "results"
   ]
  },
  {
   "cell_type": "code",
   "execution_count": 11,
   "metadata": {},
   "outputs": [
    {
     "data": {
      "text/plain": [
       "[3, 2, 3, 1, 3, 2, 3, 1, 3, 2, 3, 1, 3, 2, 3, 3, 3, 3, 3, 1, 3, 2, 3, 3]"
      ]
     },
     "execution_count": 11,
     "metadata": {},
     "output_type": "execute_result"
    }
   ],
   "source": [
    "lenses['type'].values.tolist()"
   ]
  }
 ],
 "metadata": {
  "kernelspec": {
   "display_name": "Python 3",
   "language": "python",
   "name": "python3"
  },
  "language_info": {
   "codemirror_mode": {
    "name": "ipython",
    "version": 3
   },
   "file_extension": ".py",
   "mimetype": "text/x-python",
   "name": "python",
   "nbconvert_exporter": "python",
   "pygments_lexer": "ipython3",
   "version": "3.8.5"
  }
 },
 "nbformat": 4,
 "nbformat_minor": 4
}
