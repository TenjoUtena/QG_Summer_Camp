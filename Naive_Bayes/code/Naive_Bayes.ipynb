{
 "cells": [
  {
   "cell_type": "markdown",
   "metadata": {},
   "source": [
    "# 朴素贝叶斯分类"
   ]
  },
  {
   "cell_type": "code",
   "execution_count": 1,
   "metadata": {},
   "outputs": [],
   "source": [
    "import re\n",
    "import numpy as np\n",
    "import pandas as pd"
   ]
  },
  {
   "cell_type": "code",
   "execution_count": 2,
   "metadata": {},
   "outputs": [],
   "source": [
    "#加载数据\n",
    "spam = []\n",
    "ham = []\n",
    "for i in range(1, 26):\n",
    "    spam.append(open('spam/%d.txt' % i, 'r').read())\n",
    "    ham.append(open('ham/%d.txt' % i, 'r').read())"
   ]
  },
  {
   "cell_type": "code",
   "execution_count": 3,
   "metadata": {},
   "outputs": [],
   "source": [
    "for i in range(len(ham)):\n",
    "    ham[i] = re.sub('\\W', ' ', ham[i].lower())\n",
    "    ham[i] = re.sub('\\d', ' ', ham[i].lower())\n",
    "for i in range(len(ham)):\n",
    "    spam[i] = re.sub('\\W', ' ', spam[i].lower())\n",
    "    spam[i] = re.sub('\\d', ' ', spam[i].lower())"
   ]
  },
  {
   "cell_type": "code",
   "execution_count": 56,
   "metadata": {},
   "outputs": [],
   "source": [
    "class Bayes:\n",
    "    def __init__(self):     \n",
    "        #单词总数\n",
    "        self.ham_words_count = 0\n",
    "        self.spam_words_count = 0\n",
    "\n",
    "        #所含的所有单词\n",
    "        self.ham_words = []\n",
    "        self.spam_words = []\n",
    "\n",
    "        #每种短信的数量\n",
    "        self.ham_count = 0\n",
    "        self.spam_count = 0\n",
    "\n",
    "        #每种短信中各单词出现对的次数\n",
    "        self.ham_map = {}\n",
    "        self.spam_map = {}\n",
    "        \n",
    "    def data_deal(self, ham, spam):\n",
    "        self.ham_count = len(ham)\n",
    "        self.spam_count = len(spam)\n",
    "        \n",
    "        for i in range(len(ham)):\n",
    "            temp_1 = re.split(r'\\s+', ham[i])\n",
    "            for j in range(len(temp_1)):\n",
    "                if temp_1[j] != '':\n",
    "                    self.ham_words.append(temp_1[j])\n",
    "                    self.ham_words_count += 1\n",
    "\n",
    "        for i in range(len(spam)):\n",
    "            temp_2 = re.split(r'\\s+', spam[i])\n",
    "            for j in range(len(temp_2)):\n",
    "                if temp_2[j] != '':\n",
    "                    self.spam_words.append(temp_2[j])\n",
    "                    self.spam_words_count += 1\n",
    "\n",
    "        self.word_dictionary_set = set(self.ham_words) | set(self.spam_words)\n",
    "\n",
    "        for word in self.ham_words:\n",
    "            if word not in self.ham_map.keys():\n",
    "                self.ham_map[word] = 0\n",
    "            self.ham_map[word] += 1\n",
    "        for word in self.spam_words:\n",
    "            if word not in self.spam_map.keys():\n",
    "                self.spam_map[word] = 0\n",
    "            self.spam_map[word] += 1  \n",
    "        return self\n",
    "    \n",
    "    def predict(self, message):\n",
    "        try:\n",
    "            prob_1 = 0.0\n",
    "            prob_2 = 0.0\n",
    "            P_1 = (self.ham_count + 1) / (self.spam_count + self.ham_count + 2)\n",
    "            P_2 = (self.spam_count + 1) / (self.spam_count + self.ham_count + 2)\n",
    "            message_dict = {}\n",
    "            message = re.sub('\\W', ' ', message.lower())\n",
    "            message = re.sub('\\d', ' ', message.lower())\n",
    "            message = re.split(r'\\s+', message)\n",
    "            for word in message:\n",
    "                if word not in message_dict:\n",
    "                    message_dict[word] = 0\n",
    "                message_dict[word] += 1\n",
    "            prob = 1.0\n",
    "            for word in message_dict.keys():\n",
    "                if word not in self.ham_map.keys():\n",
    "                    p = 1 / (self.ham_count + 1)\n",
    "                else:\n",
    "                    p = (1 + message_dict[word]) / (self.ham_map[word] + 1)\n",
    "                prob *= p\n",
    "            prob_1 = prob*P_1\n",
    "            prob = 1.0\n",
    "            for word in message_dict.keys():\n",
    "                if word not in self.spam_map.keys():\n",
    "                    p = 1 / (self.spam_count + 1)\n",
    "                else:\n",
    "                    p = (1 + message_dict[word]) / (self.spam_map[word] + 1)\n",
    "                prob *= p\n",
    "            prob_2 = prob*P_2\n",
    "            if prob_1 > prob_2:\n",
    "                return ('ham')\n",
    "            else:\n",
    "                return('spam')\n",
    "        except Exception as e:\n",
    "            print(e)"
   ]
  }
 ],
 "metadata": {
  "kernelspec": {
   "display_name": "Python 3",
   "language": "python",
   "name": "python3"
  },
  "language_info": {
   "codemirror_mode": {
    "name": "ipython",
    "version": 3
   },
   "file_extension": ".py",
   "mimetype": "text/x-python",
   "name": "python",
   "nbconvert_exporter": "python",
   "pygments_lexer": "ipython3",
   "version": "3.8.5"
  }
 },
 "nbformat": 4,
 "nbformat_minor": 4
}
