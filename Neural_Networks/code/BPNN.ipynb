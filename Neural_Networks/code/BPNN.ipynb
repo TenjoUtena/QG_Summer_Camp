{
 "cells": [
  {
   "cell_type": "code",
   "execution_count": 30,
   "metadata": {},
   "outputs": [],
   "source": [
    "import random\n",
    "import numpy as np\n",
    "import pandas as pd\n",
    "from sklearn import datasets\n",
    "\n",
    "from sklearn.model_selection import train_test_split"
   ]
  },
  {
   "cell_type": "code",
   "execution_count": 6,
   "metadata": {},
   "outputs": [],
   "source": [
    "digits = datasets.load_digits()"
   ]
  },
  {
   "cell_type": "code",
   "execution_count": 7,
   "metadata": {},
   "outputs": [
    {
     "data": {
      "text/plain": [
       "{'data': array([[ 0.,  0.,  5., ...,  0.,  0.,  0.],\n",
       "        [ 0.,  0.,  0., ..., 10.,  0.,  0.],\n",
       "        [ 0.,  0.,  0., ..., 16.,  9.,  0.],\n",
       "        ...,\n",
       "        [ 0.,  0.,  1., ...,  6.,  0.,  0.],\n",
       "        [ 0.,  0.,  2., ..., 12.,  0.,  0.],\n",
       "        [ 0.,  0., 10., ..., 12.,  1.,  0.]]),\n",
       " 'target': array([0, 1, 2, ..., 8, 9, 8]),\n",
       " 'frame': None,\n",
       " 'feature_names': ['pixel_0_0',\n",
       "  'pixel_0_1',\n",
       "  'pixel_0_2',\n",
       "  'pixel_0_3',\n",
       "  'pixel_0_4',\n",
       "  'pixel_0_5',\n",
       "  'pixel_0_6',\n",
       "  'pixel_0_7',\n",
       "  'pixel_1_0',\n",
       "  'pixel_1_1',\n",
       "  'pixel_1_2',\n",
       "  'pixel_1_3',\n",
       "  'pixel_1_4',\n",
       "  'pixel_1_5',\n",
       "  'pixel_1_6',\n",
       "  'pixel_1_7',\n",
       "  'pixel_2_0',\n",
       "  'pixel_2_1',\n",
       "  'pixel_2_2',\n",
       "  'pixel_2_3',\n",
       "  'pixel_2_4',\n",
       "  'pixel_2_5',\n",
       "  'pixel_2_6',\n",
       "  'pixel_2_7',\n",
       "  'pixel_3_0',\n",
       "  'pixel_3_1',\n",
       "  'pixel_3_2',\n",
       "  'pixel_3_3',\n",
       "  'pixel_3_4',\n",
       "  'pixel_3_5',\n",
       "  'pixel_3_6',\n",
       "  'pixel_3_7',\n",
       "  'pixel_4_0',\n",
       "  'pixel_4_1',\n",
       "  'pixel_4_2',\n",
       "  'pixel_4_3',\n",
       "  'pixel_4_4',\n",
       "  'pixel_4_5',\n",
       "  'pixel_4_6',\n",
       "  'pixel_4_7',\n",
       "  'pixel_5_0',\n",
       "  'pixel_5_1',\n",
       "  'pixel_5_2',\n",
       "  'pixel_5_3',\n",
       "  'pixel_5_4',\n",
       "  'pixel_5_5',\n",
       "  'pixel_5_6',\n",
       "  'pixel_5_7',\n",
       "  'pixel_6_0',\n",
       "  'pixel_6_1',\n",
       "  'pixel_6_2',\n",
       "  'pixel_6_3',\n",
       "  'pixel_6_4',\n",
       "  'pixel_6_5',\n",
       "  'pixel_6_6',\n",
       "  'pixel_6_7',\n",
       "  'pixel_7_0',\n",
       "  'pixel_7_1',\n",
       "  'pixel_7_2',\n",
       "  'pixel_7_3',\n",
       "  'pixel_7_4',\n",
       "  'pixel_7_5',\n",
       "  'pixel_7_6',\n",
       "  'pixel_7_7'],\n",
       " 'target_names': array([0, 1, 2, 3, 4, 5, 6, 7, 8, 9]),\n",
       " 'images': array([[[ 0.,  0.,  5., ...,  1.,  0.,  0.],\n",
       "         [ 0.,  0., 13., ..., 15.,  5.,  0.],\n",
       "         [ 0.,  3., 15., ..., 11.,  8.,  0.],\n",
       "         ...,\n",
       "         [ 0.,  4., 11., ..., 12.,  7.,  0.],\n",
       "         [ 0.,  2., 14., ..., 12.,  0.,  0.],\n",
       "         [ 0.,  0.,  6., ...,  0.,  0.,  0.]],\n",
       " \n",
       "        [[ 0.,  0.,  0., ...,  5.,  0.,  0.],\n",
       "         [ 0.,  0.,  0., ...,  9.,  0.,  0.],\n",
       "         [ 0.,  0.,  3., ...,  6.,  0.,  0.],\n",
       "         ...,\n",
       "         [ 0.,  0.,  1., ...,  6.,  0.,  0.],\n",
       "         [ 0.,  0.,  1., ...,  6.,  0.,  0.],\n",
       "         [ 0.,  0.,  0., ..., 10.,  0.,  0.]],\n",
       " \n",
       "        [[ 0.,  0.,  0., ..., 12.,  0.,  0.],\n",
       "         [ 0.,  0.,  3., ..., 14.,  0.,  0.],\n",
       "         [ 0.,  0.,  8., ..., 16.,  0.,  0.],\n",
       "         ...,\n",
       "         [ 0.,  9., 16., ...,  0.,  0.,  0.],\n",
       "         [ 0.,  3., 13., ..., 11.,  5.,  0.],\n",
       "         [ 0.,  0.,  0., ..., 16.,  9.,  0.]],\n",
       " \n",
       "        ...,\n",
       " \n",
       "        [[ 0.,  0.,  1., ...,  1.,  0.,  0.],\n",
       "         [ 0.,  0., 13., ...,  2.,  1.,  0.],\n",
       "         [ 0.,  0., 16., ..., 16.,  5.,  0.],\n",
       "         ...,\n",
       "         [ 0.,  0., 16., ..., 15.,  0.,  0.],\n",
       "         [ 0.,  0., 15., ..., 16.,  0.,  0.],\n",
       "         [ 0.,  0.,  2., ...,  6.,  0.,  0.]],\n",
       " \n",
       "        [[ 0.,  0.,  2., ...,  0.,  0.,  0.],\n",
       "         [ 0.,  0., 14., ..., 15.,  1.,  0.],\n",
       "         [ 0.,  4., 16., ..., 16.,  7.,  0.],\n",
       "         ...,\n",
       "         [ 0.,  0.,  0., ..., 16.,  2.,  0.],\n",
       "         [ 0.,  0.,  4., ..., 16.,  2.,  0.],\n",
       "         [ 0.,  0.,  5., ..., 12.,  0.,  0.]],\n",
       " \n",
       "        [[ 0.,  0., 10., ...,  1.,  0.,  0.],\n",
       "         [ 0.,  2., 16., ...,  1.,  0.,  0.],\n",
       "         [ 0.,  0., 15., ..., 15.,  0.,  0.],\n",
       "         ...,\n",
       "         [ 0.,  4., 16., ..., 16.,  6.,  0.],\n",
       "         [ 0.,  8., 16., ..., 16.,  8.,  0.],\n",
       "         [ 0.,  1.,  8., ..., 12.,  1.,  0.]]]),\n",
       " 'DESCR': \".. _digits_dataset:\\n\\nOptical recognition of handwritten digits dataset\\n--------------------------------------------------\\n\\n**Data Set Characteristics:**\\n\\n    :Number of Instances: 5620\\n    :Number of Attributes: 64\\n    :Attribute Information: 8x8 image of integer pixels in the range 0..16.\\n    :Missing Attribute Values: None\\n    :Creator: E. Alpaydin (alpaydin '@' boun.edu.tr)\\n    :Date: July; 1998\\n\\nThis is a copy of the test set of the UCI ML hand-written digits datasets\\nhttps://archive.ics.uci.edu/ml/datasets/Optical+Recognition+of+Handwritten+Digits\\n\\nThe data set contains images of hand-written digits: 10 classes where\\neach class refers to a digit.\\n\\nPreprocessing programs made available by NIST were used to extract\\nnormalized bitmaps of handwritten digits from a preprinted form. From a\\ntotal of 43 people, 30 contributed to the training set and different 13\\nto the test set. 32x32 bitmaps are divided into nonoverlapping blocks of\\n4x4 and the number of on pixels are counted in each block. This generates\\nan input matrix of 8x8 where each element is an integer in the range\\n0..16. This reduces dimensionality and gives invariance to small\\ndistortions.\\n\\nFor info on NIST preprocessing routines, see M. D. Garris, J. L. Blue, G.\\nT. Candela, D. L. Dimmick, J. Geist, P. J. Grother, S. A. Janet, and C.\\nL. Wilson, NIST Form-Based Handprint Recognition System, NISTIR 5469,\\n1994.\\n\\n.. topic:: References\\n\\n  - C. Kaynak (1995) Methods of Combining Multiple Classifiers and Their\\n    Applications to Handwritten Digit Recognition, MSc Thesis, Institute of\\n    Graduate Studies in Science and Engineering, Bogazici University.\\n  - E. Alpaydin, C. Kaynak (1998) Cascading Classifiers, Kybernetika.\\n  - Ken Tang and Ponnuthurai N. Suganthan and Xi Yao and A. Kai Qin.\\n    Linear dimensionalityreduction using relevance weighted LDA. School of\\n    Electrical and Electronic Engineering Nanyang Technological University.\\n    2005.\\n  - Claudio Gentile. A New Approximate Maximal Margin Classification\\n    Algorithm. NIPS. 2000.\"}"
      ]
     },
     "execution_count": 7,
     "metadata": {},
     "output_type": "execute_result"
    }
   ],
   "source": [
    "digits"
   ]
  },
  {
   "cell_type": "code",
   "execution_count": 8,
   "metadata": {},
   "outputs": [
    {
     "data": {
      "text/plain": [
       "dict_keys(['data', 'target', 'frame', 'feature_names', 'target_names', 'images', 'DESCR'])"
      ]
     },
     "execution_count": 8,
     "metadata": {},
     "output_type": "execute_result"
    }
   ],
   "source": [
    "digits.keys()"
   ]
  },
  {
   "cell_type": "code",
   "execution_count": 9,
   "metadata": {},
   "outputs": [],
   "source": [
    "images = digits.images\n",
    "data = digits.data\n",
    "target = digits.target"
   ]
  },
  {
   "cell_type": "code",
   "execution_count": 10,
   "metadata": {},
   "outputs": [
    {
     "data": {
      "text/plain": [
       "1797"
      ]
     },
     "execution_count": 10,
     "metadata": {},
     "output_type": "execute_result"
    }
   ],
   "source": [
    "len(images)"
   ]
  },
  {
   "cell_type": "code",
   "execution_count": 32,
   "metadata": {},
   "outputs": [],
   "source": [
    "X_train,X_test,y_train,y_test = train_test_split(images , target , test_size=0.2 , random_state=0)"
   ]
  },
  {
   "cell_type": "code",
   "execution_count": 122,
   "metadata": {},
   "outputs": [],
   "source": [
    "def sigmoid(x):\n",
    "    return 1.0 / (1.0 + np.exp(-x))"
   ]
  },
  {
   "cell_type": "code",
   "execution_count": 123,
   "metadata": {},
   "outputs": [],
   "source": [
    "def dsigmoid(x):\n",
    "    return x * (1 - x)"
   ]
  },
  {
   "cell_type": "code",
   "execution_count": 124,
   "metadata": {},
   "outputs": [],
   "source": [
    "def rand(x, y):\n",
    "    return (y - x) * random.random() + x"
   ]
  },
  {
   "cell_type": "code",
   "execution_count": 125,
   "metadata": {},
   "outputs": [],
   "source": [
    "def make_matrix(m, n):  # 创造一个指定大小的矩阵\n",
    "    return np.zeros((m, n), dtype = float)"
   ]
  },
  {
   "cell_type": "markdown",
   "metadata": {},
   "source": [
    "# 跑不动的代码1"
   ]
  },
  {
   "cell_type": "code",
   "execution_count": 126,
   "metadata": {},
   "outputs": [],
   "source": [
    "# class BPNN():\n",
    "#     def setup(self, ni, nh, no, eta):\n",
    "#         self.input_n = ni\n",
    "#         self.hidden_n = nh\n",
    "#         self.output_n = no\n",
    "#         self.eta = eta\n",
    "\n",
    "#         self.input_weights = np.random.rand(self.input_n, self.hidden_n)\n",
    "#         self.output_weights = np.random.rand(self.hidden_n, self.output_n)\n",
    "#         self.b1 = np.zeros(self.hidden_n)\n",
    "#         self.b2 = np.zeros(self.output_n)\n",
    "               \n",
    "#     def predict(self, inputs):\n",
    "#         inputs = np.array(inputs)\n",
    "        \n",
    "#         self.hidden_cells = inputs.dot(self.input_weights) + self.b1\n",
    "#         self.hidden_cells = sigmoid(self.hidden_cells)\n",
    "        \n",
    "#         self.output_cells = self.hidden_cells.dot(self.output_weights) + self.b2\n",
    "#         self.output_cells = sigmoid(self.output_cells)\n",
    "        \n",
    "#         return self\n",
    "        \n",
    "#     def back_propagate(self, case, target):\n",
    "#         case = np.array(case)\n",
    "#         target = target\n",
    "\n",
    "#         loss = 10\n",
    "#         error = 0.01\n",
    "#         tier = 0\n",
    "#         max_tier = 100\n",
    "#         epsilon = 0.01\n",
    "        \n",
    "#         while (loss > epsilon) and (tier < max_tier):\n",
    "#             for i in range(len(case)):\n",
    "#                 #case[i] = case[i].ravel()\n",
    "#                 H = sigmoid(case[i].ravel().dot(self.input_weights) - self.b1)\n",
    "#                 Y = sigmoid(H.dot(self.output_weights) - self.b2)\n",
    "#                 loss = sum((target[i] - Y) ** 2) * 0.5\n",
    "                \n",
    "#                 g = dsigmoid(Y) * (target[i] - Y)\n",
    "#                 e = dsigmoid(H) * g.dot(self.output_weights.T)\n",
    "                \n",
    "#                 self.output_weights += self.eta * H.T.dot(g)\n",
    "# #                 print(self.b2.shape)\n",
    "# #                 print(g.shape)\n",
    "#                 self.b2 -= self.eta * g\n",
    "#                 print(case[i].reshape(1, case[i].size).shape)\n",
    "#                 self.input_weights += self.eta * case[i].reshape(1, case[i].size).T.dot(e)\n",
    "#                 self.b1 -= self.eta * e\n",
    "#                 tier += 1\n",
    "                \n",
    "#         print(self.input_weights)\n",
    " "
   ]
  },
  {
   "cell_type": "markdown",
   "metadata": {},
   "source": [
    "# 跑不动的代码2"
   ]
  },
  {
   "cell_type": "code",
   "execution_count": 185,
   "metadata": {},
   "outputs": [],
   "source": [
    "# class BPNN():\n",
    "#     def setup(self, ni, nh, no):\n",
    "#         self.input_n = ni + 1\n",
    "#         self.hidden_n = nh\n",
    "#         self.output_n = no\n",
    "\n",
    "#         self.input_cells = self.input_n * [1.0]\n",
    "#         self.hidden_cells = self.hidden_n * [1.0]\n",
    "#         self.output_cells = self.output_n * [1.0]\n",
    "\n",
    "#         self.input_weights = make_matrix(self.input_n, self.hidden_n)\n",
    "#         self.output_weights = make_matrix(self.hidden_n, self.output_n)\n",
    "\n",
    "#         for i in range(self.input_n):\n",
    "#             for j in range(self.hidden_n):\n",
    "#                 self.input_weights[i][j] = rand(0, 1)\n",
    "\n",
    "#         for i in range(self.hidden_n):\n",
    "#             for j in range(self.output_n):\n",
    "#                 self.output_weights[i][j] = rand(0, 1)\n",
    "\n",
    "#         self.input_correction = make_matrix(self.input_n, self.hidden_n)\n",
    "#         self.output_correction = make_matrix(self.hidden_n, self.output_n)\n",
    "        \n",
    "#     def predict(self, inputs):\n",
    "#         for i in range(self.input_n - 1):\n",
    "#             self.input_cells[i] = inputs[i]\n",
    "\n",
    "#         for j in range(self.hidden_n):\n",
    "#             total = 0.0\n",
    "#             for i in range(self.input_n):\n",
    "#                 total += self.input_cells[i] * self.input_weights[i][j]\n",
    "#             self.hidden_cells[j] = sigmoid(total)\n",
    "\n",
    "#         for k in range(self.output_n):\n",
    "#             total = 0.0\n",
    "#             for j in range(self.hidden_n):\n",
    "#                 total += self.hidden_cells[j] * self.output_weights[j][k]\n",
    "#             self.output_cells[k] = sigmoid(total)\n",
    "\n",
    "#         return self.output_cells[:]\n",
    "    \n",
    "#     def back_propagate(self, case, label, eta, correct):\n",
    "#         self.predict(case)\n",
    "#         #初始化输出层误差\n",
    "#         output_deltas = [0.0] * self.output_n\n",
    "#         for o in range(self.output_n):\n",
    "#             error = label[o] - self.output_cells[o]\n",
    "#             output_deltas[o] = dsigmoid(self.output_cells[o]) * error\n",
    "            \n",
    "#         hidden_deltas = [0.0] * self.hidden_n\n",
    "#         for h in range(self.hidden_n):\n",
    "#             error = 0.0\n",
    "#             for o in range(self.output_n):\n",
    "#                 error += output_deltas[o] * self.output_weights[h][o]\n",
    "#             hidden_deltas[h] = dsigmoid(self.hidden_cells[h]) * error\n",
    "        \n",
    "#         #更新输出权重\n",
    "#         for h in range(self.hidden_n):\n",
    "#             for o in range(self.output_n):\n",
    "#                 change = output_deltas[o] * self.hidden_cells[h]\n",
    "#                 self.output_weights[h][o] += eta * change + correct * self.output_correction[h][o]\n",
    "                \n",
    "#         for i in range(self.input_n):\n",
    "#             for h in range(self.hidden_n):\n",
    "#                 chage = output_deltas[o] * self.hidden_cells[h]\n",
    "#                 self.output_weights[h][o] += eta * change + correct * self.input_correction[i][h]\n",
    "#                 self.input_correction[i][h] = change\n",
    "        \n",
    "#         error = 0.0\n",
    "#         for o in range(len(label)):\n",
    "#             error += 0.5 * (label[o] - self.output_cells[o]) ** 2\n",
    "#         return error\n",
    "    \n",
    "#     def train(self, cases, labels, limit = 1000, eta = 0.05, correct = 0.1):\n",
    "#         for i in range(limit):\n",
    "#             error = 0.0\n",
    "#             for i in range(len(cases)):\n",
    "#                 label = labels[i]\n",
    "#                 case = cases[i]\n",
    "#                 error += self.back_propagate(case, label, eta, correct)"
   ]
  },
  {
   "cell_type": "code",
   "execution_count": 186,
   "metadata": {},
   "outputs": [],
   "source": [
    "BPNN = BPNN()\n",
    "BPNN.setup(64, 30, 1)"
   ]
  },
  {
   "cell_type": "code",
   "execution_count": 187,
   "metadata": {},
   "outputs": [],
   "source": [
    "inputs = []\n",
    "for image in images:\n",
    "    inputs.append(image.ravel())\n",
    "inputs = np.array(inputs)"
   ]
  },
  {
   "cell_type": "code",
   "execution_count": 188,
   "metadata": {},
   "outputs": [],
   "source": [
    "labels = []\n",
    "for i in target:\n",
    "    a = []\n",
    "    a.append(i)\n",
    "    labels.append(a)\n",
    "labels = np.array(labels)"
   ]
  },
  {
   "cell_type": "code",
   "execution_count": null,
   "metadata": {},
   "outputs": [],
   "source": [
    "BPNN.train(inputs, labels)"
   ]
  },
  {
   "cell_type": "code",
   "execution_count": null,
   "metadata": {},
   "outputs": [],
   "source": [
    "for case in cases:\n",
    "    print(self.predict(case))"
   ]
  },
  {
   "cell_type": "code",
   "execution_count": null,
   "metadata": {},
   "outputs": [],
   "source": []
  }
 ],
 "metadata": {
  "kernelspec": {
   "display_name": "Python 3",
   "language": "python",
   "name": "python3"
  },
  "language_info": {
   "codemirror_mode": {
    "name": "ipython",
    "version": 3
   },
   "file_extension": ".py",
   "mimetype": "text/x-python",
   "name": "python",
   "nbconvert_exporter": "python",
   "pygments_lexer": "ipython3",
   "version": "3.8.5"
  }
 },
 "nbformat": 4,
 "nbformat_minor": 4
}
